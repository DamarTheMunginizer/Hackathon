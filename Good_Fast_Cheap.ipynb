{
 "cells": [
  {
   "cell_type": "markdown",
   "metadata": {},
   "source": [
    "### Quick Example With the three different limitations \n",
    "\n"
   ]
  },
  {
   "cell_type": "code",
   "execution_count": 1,
   "metadata": {},
   "outputs": [],
   "source": [
    "import pandas as pd \n",
    "from sklearn.ensemble import RandomForestClassifier, GradientBoostingClassifier\n",
    "from sklearn.linear_model import LogisticRegression\n",
    "from sklearn.model_selection import train_test_split\n",
    "from sklearn.preprocessing import StandardScaler\n",
    "from sklearn.metrics import accuracy_score, confusion_matrix, roc_curve, roc_auc_score\n",
    "from sklearn.feature_selection import SelectKBest\n",
    "import matplotlib.pyplot as plt \n",
    "import numpy as np\n",
    "from __future__ import print_function\n",
    "from ipywidgets import interact, interactive, fixed, interact_manual\n",
    "import ipywidgets as widgets\n",
    "from IPython.display import display_html\n",
    "\n",
    "%matplotlib inline "
   ]
  },
  {
   "cell_type": "code",
   "execution_count": 2,
   "metadata": {},
   "outputs": [],
   "source": [
    "def display_side_by_side(*args):\n",
    "    html_str=''\n",
    "    for df in args:\n",
    "        html_str+=df.to_html()\n",
    "    display_html(html_str.replace('table','table style=\"display:inline\"'),raw=True)"
   ]
  },
  {
   "cell_type": "code",
   "execution_count": 3,
   "metadata": {},
   "outputs": [],
   "source": [
    "def clean_objs(dff):\n",
    "    dff = dff.copy()\n",
    "    dff.loc[:,dff.dtypes == 'object'] = dff.loc[:,dff.dtypes == 'object'].applymap(lambda x: x.strip())\n",
    "    return dff"
   ]
  },
  {
   "cell_type": "code",
   "execution_count": 4,
   "metadata": {},
   "outputs": [],
   "source": [
    "df = pd.read_csv('./data/large_train_sample.csv')\n",
    "\n",
    "X_test = pd.read_csv('./data/test_data.csv')\n",
    "\n",
    "df_cheap_sample = pd.read_csv('./data/cheap_test_sample.csv')"
   ]
  },
  {
   "cell_type": "code",
   "execution_count": 5,
   "metadata": {},
   "outputs": [],
   "source": [
    "y_test = pd.read_csv('./data/y_test.csv')\n",
    "\n",
    "y_test['wage'] = y_test['wage'].map({1:'>50K', 0:'<=50K'})"
   ]
  },
  {
   "cell_type": "code",
   "execution_count": 6,
   "metadata": {},
   "outputs": [],
   "source": [
    "df = clean_objs(df)\n",
    "X_test = clean_objs(X_test)\n",
    "df_cheap_sample = clean_objs(df_cheap_sample)"
   ]
  },
  {
   "cell_type": "code",
   "execution_count": 7,
   "metadata": {},
   "outputs": [],
   "source": [
    "def percent_upper_income(col):\n",
    "    return sum(1 for x in col if x == '>50K')/ len(col)"
   ]
  },
  {
   "cell_type": "code",
   "execution_count": 8,
   "metadata": {},
   "outputs": [
    {
     "data": {
      "image/png": "[encoded data removed]",
      "text/plain": [
       "<matplotlib.figure.Figure at 0x123d71390>"
      ]
     },
     "metadata": {},
     "output_type": "display_data"
    }
   ],
   "source": [
    "df.groupby('education')['wage'].agg(percent_upper_income).plot(kind='barh');"
   ]
  },
  {
   "cell_type": "code",
   "execution_count": 9,
   "metadata": {},
   "outputs": [
    {
     "data": {
      "text/plain": [
       "array(['Bachelors', 'HS-grad', '11th', 'Masters', '9th', 'Some-college',\n",
       "       'Assoc-acdm', 'Assoc-voc', '7th-8th', 'Doctorate', 'Prof-school',\n",
       "       '5th-6th', '10th', '1st-4th', 'Preschool', '12th'], dtype=object)"
      ]
     },
     "execution_count": 9,
     "metadata": {},
     "output_type": "execute_result"
    }
   ],
   "source": [
    "df['education'].unique()"
   ]
  },
  {
   "cell_type": "code",
   "execution_count": 10,
   "metadata": {},
   "outputs": [
    {
     "data": {
      "text/plain": [
       "{'10th': 0,\n",
       " '11th': 0,\n",
       " '12th': 0,\n",
       " '1st-4th': 0,\n",
       " '5th-6th': 0,\n",
       " '7th-8th': 0,\n",
       " '9th': 0,\n",
       " 'Assoc-acdm': 2,\n",
       " 'Assoc-voc': 2,\n",
       " 'Bachelors': 3,\n",
       " 'Doctorate': 5,\n",
       " 'HS-grad': 1,\n",
       " 'Masters': 4,\n",
       " 'Preschool': 0,\n",
       " 'Prof-school': 5,\n",
       " 'Some-college': 1}"
      ]
     },
     "execution_count": 10,
     "metadata": {},
     "output_type": "execute_result"
    }
   ],
   "source": [
    "highest = ['Prof-school', 'Doctorate']\n",
    "assoc = ['Assoc-voc', 'Assoc-acdm']\n",
    "hs = ['Some-college', 'HS-grad']\n",
    "\n",
    "education_mapper = {}\n",
    "\n",
    "for level in df['education'].unique():\n",
    "    if level in highest:\n",
    "        education_mapper[level] = 5\n",
    "    elif level == 'Masters':\n",
    "        education_mapper[level] = 4\n",
    "    elif level == 'Bachelors':\n",
    "        education_mapper[level] = 3\n",
    "    elif level in assoc:\n",
    "        education_mapper[level] = 2\n",
    "    elif level in hs:\n",
    "        education_mapper[level] = 1\n",
    "    else:\n",
    "        education_mapper[level] = 0 \n",
    "education_mapper      "
   ]
  },
  {
   "cell_type": "code",
   "execution_count": 11,
   "metadata": {},
   "outputs": [],
   "source": [
    "def cleaner(df_in, is_test=False, train_df=None):\n",
    "    df_in = df_in.copy()\n",
    "    df_in['education'] =  df_in['education'].map(education_mapper)\n",
    "    df_in = pd.get_dummies(df_in)\n",
    "    if is_test:\n",
    "        not_in_test = list(set(train_df.columns) - set(df_in.columns))\n",
    "        not_in_train = list(set(df_in.columns) - set(train_df.columns))\n",
    "        if len(not_in_test) > 0:\n",
    "            new_col_df = pd.DataFrame(np.zeros((df_in.shape[0], len(not_in_test))), columns=not_in_test)\n",
    "            df_in = pd.concat([df_in, new_col_df], axis=1)\n",
    "        if len(not_in_train) > 0:\n",
    "            df_in = df_in.drop(columns=not_in_train)\n",
    "        \n",
    "    return df_in "
   ]
  },
  {
   "cell_type": "code",
   "execution_count": null,
   "metadata": {},
   "outputs": [],
   "source": []
  },
  {
   "cell_type": "code",
   "execution_count": 12,
   "metadata": {},
   "outputs": [
    {
     "name": "stderr",
     "output_type": "stream",
     "text": [
      "//anaconda/envs/three/lib/python3.6/site-packages/sklearn/preprocessing/data.py:625: DataConversionWarning: Data with input dtype uint8, int64 were all converted to float64 by StandardScaler.\n",
      "  return self.partial_fit(X, y)\n",
      "//anaconda/envs/three/lib/python3.6/site-packages/sklearn/base.py:462: DataConversionWarning: Data with input dtype uint8, int64 were all converted to float64 by StandardScaler.\n",
      "  return self.fit(X, **fit_params).transform(X)\n"
     ]
    }
   ],
   "source": [
    "## fitting rf on train full sample\n",
    "X_train = cleaner(df.drop(columns=['wage']))\n",
    "y_train = df['wage']\n",
    "rf = RandomForestClassifier(n_estimators=100)\n",
    "rf.fit(X_train,y_train)\n",
    "\n",
    "## fitting logreg on the full sample \n",
    "lr = LogisticRegression(solver='lbfgs')\n",
    "lr.fit(X_train,y_train)\n",
    "ss = StandardScaler()\n",
    "X_train_ss =  ss.fit_transform(X_train)\n",
    "lr.fit(X_train_ss, y_train)\n",
    "\n",
    "## fitting rf on train cheap sample \n",
    "X_cheap_sample = cleaner(df_cheap_sample.drop(columns=['wage']))\n",
    "y_train_cheap = df_cheap_sample['wage']\n",
    "rf_cheap = RandomForestClassifier(n_estimators=100)\n",
    "rf_cheap.fit(X_cheap_sample, y_train_cheap)\n",
    "\n",
    "## fitting rf on train limited to 20 featuers \n",
    "X_train = cleaner(df.drop(columns=['wage']))\n",
    "y_train = df['wage']\n",
    "skb20 = SelectKBest(k=20)\n",
    "X_train_20 = skb20.fit_transform(X_train, y_train)\n",
    "rf20 = RandomForestClassifier(n_estimators=100)\n",
    "rf20.fit(X_train_20,y_train);\n"
   ]
  },
  {
   "cell_type": "code",
   "execution_count": 13,
   "metadata": {},
   "outputs": [
    {
     "name": "stderr",
     "output_type": "stream",
     "text": [
      "//anaconda/envs/three/lib/python3.6/site-packages/ipykernel_launcher.py:8: DataConversionWarning: Data with input dtype uint8, int64, float64 were all converted to float64 by StandardScaler.\n",
      "  \n"
     ]
    }
   ],
   "source": [
    "## creating test sets for each model \n",
    "X_test_model = cleaner(X_test, is_test=True, train_df=X_train)\n",
    "X_test_model_cheap_sample = cleaner(X_test, is_test=True, train_df=X_cheap_sample)\n",
    "\n",
    "## generating predictions for each model \n",
    "predict_probas_cheap = rf_cheap.predict_proba(X_test_model_cheap_sample)[:,1]\n",
    "predict_probas = rf.predict_proba(X_test_model)[:,1]\n",
    "predict_probas_lr = lr.predict_proba(ss.transform(X_test_model))[:,1]\n",
    "predict_probas_20 = rf20.predict_proba(skb20.transform(X_test_model))[:,1]"
   ]
  },
  {
   "cell_type": "code",
   "execution_count": 14,
   "metadata": {},
   "outputs": [],
   "source": [
    "from roc_plotting_functions import plot_model"
   ]
  },
  {
   "cell_type": "code",
   "execution_count": 15,
   "metadata": {},
   "outputs": [
    {
     "data": {
      "application/vnd.jupyter.widget-view+json": {
       "model_id": "f57bd81ce41f423caa046699c5babfd1",
       "version_major": 2,
       "version_minor": 0
      },
      "text/html": [
       "<p>Failed to display Jupyter Widget of type <code>interactive</code>.</p>\n",
       "<p>\n",
       "  If you're reading this message in Jupyter Notebook or JupyterLab, it may mean\n",
       "  that the widgets JavaScript is still loading. If this message persists, it\n",
       "  likely means that the widgets JavaScript library is either not installed or\n",
       "  not enabled. See the <a href=\"https://ipywidgets.readthedocs.io/en/stable/user_install.html\">Jupyter\n",
       "  Widgets Documentation</a> for setup instructions.\n",
       "</p>\n",
       "<p>\n",
       "  If you're reading this message in another notebook frontend (for example, a static\n",
       "  rendering on GitHub or <a href=\"https://nbviewer.jupyter.org/\">NBViewer</a>),\n",
       "  it may mean that your frontend doesn't currently support widgets.\n",
       "</p>\n"
      ],
      "text/plain": [
       "interactive(children=(FloatSlider(value=0.5, description='threshold', max=1.01, min=-0.01, step=0.01), Output()), _dom_classes=('widget-interact',))"
      ]
     },
     "metadata": {},
     "output_type": "display_data"
    }
   ],
   "source": [
    "interact(plot_model,y_test=fixed(y_test), threshold =(-.01,1.01, .01), probas1=fixed(predict_probas), descrip1=fixed('No Limitations'),\\\n",
    "        probas2= fixed(predict_probas_cheap), descrip2=fixed('Limited Data'));"
   ]
  },
  {
   "cell_type": "code",
   "execution_count": 16,
   "metadata": {},
   "outputs": [
    {
     "data": {
      "text/html": [
       "<div>\n",
       "<style scoped>\n",
       "    .dataframe tbody tr th:only-of-type {\n",
       "        vertical-align: middle;\n",
       "    }\n",
       "\n",
       "    .dataframe tbody tr th {\n",
       "        vertical-align: top;\n",
       "    }\n",
       "\n",
       "    .dataframe thead th {\n",
       "        text-align: right;\n",
       "    }\n",
       "</style>\n",
       "<table border=\"1\" class=\"dataframe\">\n",
       "  <thead>\n",
       "    <tr style=\"text-align: right;\">\n",
       "      <th></th>\n",
       "      <th>No Limitations</th>\n",
       "      <th>Log Reg</th>\n",
       "    </tr>\n",
       "  </thead>\n",
       "  <tbody>\n",
       "    <tr>\n",
       "      <th>Accuracy Score</th>\n",
       "      <td>0.9176</td>\n",
       "      <td>0.9690</td>\n",
       "    </tr>\n",
       "    <tr>\n",
       "      <th>AUC_ROC</th>\n",
       "      <td>0.9721</td>\n",
       "      <td>0.9956</td>\n",
       "    </tr>\n",
       "  </tbody>\n",
       "</table>\n",
       "</div>"
      ],
      "text/plain": [
       "                No Limitations  Log Reg\n",
       "Accuracy Score          0.9176   0.9690\n",
       "AUC_ROC                 0.9721   0.9956"
      ]
     },
     "metadata": {},
     "output_type": "display_data"
    },
    {
     "data": {
      "text/html": [
       "<table style=\"display:inline\" border=\"1\" class=\"dataframe\">\n",
       "  <thead>\n",
       "    <tr>\n",
       "      <th></th>\n",
       "      <th colspan=\"2\" halign=\"left\">No Limitations</th>\n",
       "    </tr>\n",
       "    <tr>\n",
       "      <th></th>\n",
       "      <th>Predicted &lt;=50K</th>\n",
       "      <th>Predicted &gt;50K</th>\n",
       "    </tr>\n",
       "  </thead>\n",
       "  <tbody>\n",
       "    <tr>\n",
       "      <th>True &lt;=50K</th>\n",
       "      <td>12174</td>\n",
       "      <td>938</td>\n",
       "    </tr>\n",
       "    <tr>\n",
       "      <th>True &gt;50K</th>\n",
       "      <td>403</td>\n",
       "      <td>2766</td>\n",
       "    </tr>\n",
       "  </tbody>\n",
       "</table style=\"display:inline\"><table style=\"display:inline\" border=\"1\" class=\"dataframe\">\n",
       "  <thead>\n",
       "    <tr>\n",
       "      <th></th>\n",
       "      <th colspan=\"2\" halign=\"left\">Log Reg</th>\n",
       "    </tr>\n",
       "    <tr>\n",
       "      <th></th>\n",
       "      <th>Predicted &lt;=50K</th>\n",
       "      <th>Predicted &gt;50K</th>\n",
       "    </tr>\n",
       "  </thead>\n",
       "  <tbody>\n",
       "    <tr>\n",
       "      <th>True &lt;=50K</th>\n",
       "      <td>13042</td>\n",
       "      <td>70</td>\n",
       "    </tr>\n",
       "    <tr>\n",
       "      <th>True &gt;50K</th>\n",
       "      <td>435</td>\n",
       "      <td>2734</td>\n",
       "    </tr>\n",
       "  </tbody>\n",
       "</table style=\"display:inline\">"
      ]
     },
     "metadata": {},
     "output_type": "display_data"
    },
    {
     "data": {
      "image/png": "[encoded data removed]",
      "text/plain": [
       "<matplotlib.figure.Figure at 0x112fb6da0>"
      ]
     },
     "metadata": {},
     "output_type": "display_data"
    }
   ],
   "source": [
    "plot_model(.4, y_test, predict_probas, 'No Limitations', predict_probas_lr, 'Log Reg')"
   ]
  },
  {
   "cell_type": "code",
   "execution_count": 17,
   "metadata": {},
   "outputs": [
    {
     "data": {
      "text/html": [
       "<div>\n",
       "<style scoped>\n",
       "    .dataframe tbody tr th:only-of-type {\n",
       "        vertical-align: middle;\n",
       "    }\n",
       "\n",
       "    .dataframe tbody tr th {\n",
       "        vertical-align: top;\n",
       "    }\n",
       "\n",
       "    .dataframe thead th {\n",
       "        text-align: right;\n",
       "    }\n",
       "</style>\n",
       "<table border=\"1\" class=\"dataframe\">\n",
       "  <thead>\n",
       "    <tr style=\"text-align: right;\">\n",
       "      <th></th>\n",
       "      <th>No Limitations</th>\n",
       "      <th>Twenty Features</th>\n",
       "    </tr>\n",
       "  </thead>\n",
       "  <tbody>\n",
       "    <tr>\n",
       "      <th>Accuracy Score</th>\n",
       "      <td>0.9176</td>\n",
       "      <td>0.8756</td>\n",
       "    </tr>\n",
       "    <tr>\n",
       "      <th>AUC_ROC</th>\n",
       "      <td>0.9721</td>\n",
       "      <td>0.9390</td>\n",
       "    </tr>\n",
       "  </tbody>\n",
       "</table>\n",
       "</div>"
      ],
      "text/plain": [
       "                No Limitations  Twenty Features\n",
       "Accuracy Score          0.9176           0.8756\n",
       "AUC_ROC                 0.9721           0.9390"
      ]
     },
     "metadata": {},
     "output_type": "display_data"
    },
    {
     "data": {
      "text/html": [
       "<table style=\"display:inline\" border=\"1\" class=\"dataframe\">\n",
       "  <thead>\n",
       "    <tr>\n",
       "      <th></th>\n",
       "      <th colspan=\"2\" halign=\"left\">No Limitations</th>\n",
       "    </tr>\n",
       "    <tr>\n",
       "      <th></th>\n",
       "      <th>Predicted &lt;=50K</th>\n",
       "      <th>Predicted &gt;50K</th>\n",
       "    </tr>\n",
       "  </thead>\n",
       "  <tbody>\n",
       "    <tr>\n",
       "      <th>True &lt;=50K</th>\n",
       "      <td>12174</td>\n",
       "      <td>938</td>\n",
       "    </tr>\n",
       "    <tr>\n",
       "      <th>True &gt;50K</th>\n",
       "      <td>403</td>\n",
       "      <td>2766</td>\n",
       "    </tr>\n",
       "  </tbody>\n",
       "</table style=\"display:inline\"><table style=\"display:inline\" border=\"1\" class=\"dataframe\">\n",
       "  <thead>\n",
       "    <tr>\n",
       "      <th></th>\n",
       "      <th colspan=\"2\" halign=\"left\">Twenty Features</th>\n",
       "    </tr>\n",
       "    <tr>\n",
       "      <th></th>\n",
       "      <th>Predicted &lt;=50K</th>\n",
       "      <th>Predicted &gt;50K</th>\n",
       "    </tr>\n",
       "  </thead>\n",
       "  <tbody>\n",
       "    <tr>\n",
       "      <th>True &lt;=50K</th>\n",
       "      <td>11685</td>\n",
       "      <td>1427</td>\n",
       "    </tr>\n",
       "    <tr>\n",
       "      <th>True &gt;50K</th>\n",
       "      <td>599</td>\n",
       "      <td>2570</td>\n",
       "    </tr>\n",
       "  </tbody>\n",
       "</table style=\"display:inline\">"
      ]
     },
     "metadata": {},
     "output_type": "display_data"
    },
    {
     "data": {
      "image/png": "[encoded data removed]",
      "text/plain": [
       "<matplotlib.figure.Figure at 0x123f4d9b0>"
      ]
     },
     "metadata": {},
     "output_type": "display_data"
    }
   ],
   "source": [
    "plot_model(.4, y_test, predict_probas, 'No Limitations', predict_probas_20, 'Twenty Features')"
   ]
  }
 ],
 "metadata": {
  "kernelspec": {
   "display_name": "Python 3",
   "language": "python",
   "name": "python3"
  },
  "language_info": {
   "codemirror_mode": {
    "name": "ipython",
    "version": 3
   },
   "file_extension": ".py",
   "mimetype": "text/x-python",
   "name": "python",
   "nbconvert_exporter": "python",
   "pygments_lexer": "ipython3",
   "version": "3.6.6"
  }
 },
 "nbformat": 4,
 "nbformat_minor": 2
}
