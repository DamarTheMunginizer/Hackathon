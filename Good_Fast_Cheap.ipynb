{
 "cells": [
  {
   "cell_type": "markdown",
   "metadata": {},
   "source": [
    "### Quick Example With Limited Income \n",
    "\n"
   ]
  },
  {
   "cell_type": "code",
   "execution_count": 26,
   "metadata": {},
   "outputs": [],
   "source": [
    "import pandas as pd \n",
    "from sklearn.ensemble import RandomForestClassifier\n",
    "from sklearn.linear_model import LogisticRegression\n",
    "from sklearn.model_selection import train_test_split\n",
    "from sklearn.metrics import accuracy_score, confusion_matrix, roc_curve, roc_auc_score\n",
    "import matplotlib.pyplot as plt \n",
    "import numpy as np\n",
    "from __future__ import print_function\n",
    "from ipywidgets import interact, interactive, fixed, interact_manual\n",
    "import ipywidgets as widgets\n",
    "from IPython.display import display_html\n",
    "\n",
    "%matplotlib inline "
   ]
  },
  {
   "cell_type": "code",
   "execution_count": 27,
   "metadata": {},
   "outputs": [],
   "source": [
    "def display_side_by_side(*args):\n",
    "    html_str=''\n",
    "    for df in args:\n",
    "        html_str+=df.to_html()\n",
    "    display_html(html_str.replace('table','table style=\"display:inline\"'),raw=True)"
   ]
  },
  {
   "cell_type": "code",
   "execution_count": 28,
   "metadata": {},
   "outputs": [],
   "source": [
    "def clean_objs(dff):\n",
    "    dff = dff.copy()\n",
    "    dff.loc[:,dff.dtypes == 'object'] = dff.loc[:,dff.dtypes == 'object'].applymap(lambda x: x.strip())\n",
    "    return dff"
   ]
  },
  {
   "cell_type": "code",
   "execution_count": 29,
   "metadata": {},
   "outputs": [],
   "source": [
    "df = pd.read_csv('./data/large_train_sample.csv')\n",
    "\n",
    "X_test = pd.read_csv('./data/test_data.csv')\n",
    "\n",
    "df_cheap_sample = pd.read_csv('./data/cheap_test_sample.csv')"
   ]
  },
  {
   "cell_type": "code",
   "execution_count": 30,
   "metadata": {},
   "outputs": [],
   "source": [
    "y_test = pd.read_csv('./data/y_test.csv')\n",
    "\n",
    "y_test['wage'] = y_test['wage'].map({1:'>50K', 0:'<=50K'})"
   ]
  },
  {
   "cell_type": "code",
   "execution_count": 31,
   "metadata": {},
   "outputs": [],
   "source": [
    "df = clean_objs(df)\n",
    "X_test = clean_objs(X_test)\n",
    "df_cheap_sample = clean_objs(df_cheap_sample)"
   ]
  },
  {
   "cell_type": "code",
   "execution_count": 32,
   "metadata": {},
   "outputs": [],
   "source": [
    "def percent_upper_income(col):\n",
    "    return sum(1 for x in col if x == '>50K')/ len(col)"
   ]
  },
  {
   "cell_type": "code",
   "execution_count": 33,
   "metadata": {},
   "outputs": [
    {
     "data": {
      "image/png": "[encoded data removed]",
      "text/plain": [
       "<matplotlib.figure.Figure at 0x10f53a7b8>"
      ]
     },
     "metadata": {},
     "output_type": "display_data"
    }
   ],
   "source": [
    "df.groupby('education')['wage'].agg(percent_upper_income).plot(kind='barh');"
   ]
  },
  {
   "cell_type": "code",
   "execution_count": 34,
   "metadata": {},
   "outputs": [
    {
     "data": {
      "text/plain": [
       "array(['Bachelors', 'HS-grad', '11th', 'Masters', '9th', 'Some-college',\n",
       "       'Assoc-acdm', 'Assoc-voc', '7th-8th', 'Doctorate', 'Prof-school',\n",
       "       '5th-6th', '10th', '1st-4th', 'Preschool', '12th'], dtype=object)"
      ]
     },
     "execution_count": 34,
     "metadata": {},
     "output_type": "execute_result"
    }
   ],
   "source": [
    "df['education'].unique()"
   ]
  },
  {
   "cell_type": "code",
   "execution_count": 9,
   "metadata": {},
   "outputs": [
    {
     "data": {
      "text/plain": [
       "{'10th': 0,\n",
       " '11th': 0,\n",
       " '12th': 0,\n",
       " '1st-4th': 0,\n",
       " '5th-6th': 0,\n",
       " '7th-8th': 0,\n",
       " '9th': 0,\n",
       " 'Assoc-acdm': 2,\n",
       " 'Assoc-voc': 2,\n",
       " 'Bachelors': 3,\n",
       " 'Doctorate': 5,\n",
       " 'HS-grad': 1,\n",
       " 'Masters': 4,\n",
       " 'Preschool': 0,\n",
       " 'Prof-school': 5,\n",
       " 'Some-college': 1}"
      ]
     },
     "execution_count": 9,
     "metadata": {},
     "output_type": "execute_result"
    }
   ],
   "source": [
    "highest = ['Prof-school', 'Doctorate']\n",
    "assoc = ['Assoc-voc', 'Assoc-acdm']\n",
    "hs = ['Some-college', 'HS-grad']\n",
    "\n",
    "education_mapper = {}\n",
    "\n",
    "for level in df['education'].unique():\n",
    "    if level in highest:\n",
    "        education_mapper[level] = 5\n",
    "    elif level == 'Masters':\n",
    "        education_mapper[level] = 4\n",
    "    elif level == 'Bachelors':\n",
    "        education_mapper[level] = 3\n",
    "    elif level in assoc:\n",
    "        education_mapper[level] = 2\n",
    "    elif level in hs:\n",
    "        education_mapper[level] = 1\n",
    "    else:\n",
    "        education_mapper[level] = 0 \n",
    "education_mapper      "
   ]
  },
  {
   "cell_type": "code",
   "execution_count": null,
   "metadata": {},
   "outputs": [],
   "source": []
  },
  {
   "cell_type": "code",
   "execution_count": 10,
   "metadata": {},
   "outputs": [],
   "source": [
    "def cleaner(df_in, is_test=False, train_df=None):\n",
    "    df_in = df_in.copy()\n",
    "    df_in['education'] =  df_in['education'].map(education_mapper)\n",
    "    df_in = pd.get_dummies(df_in)\n",
    "    if is_test:\n",
    "        not_in_test = list(set(train_df.columns) - set(df_in.columns))\n",
    "        not_in_train = list(set(df_in.columns) - set(train_df.columns))\n",
    "        if len(not_in_test) > 0:\n",
    "            new_col_df = pd.DataFrame(np.zeros((df_in.shape[0], len(not_in_test))), columns=not_in_test)\n",
    "            df_in = pd.concat([df_in, new_col_df], axis=1)\n",
    "        if len(not_in_train) > 0:\n",
    "            df_in = df_in.drop(columns=not_in_train)\n",
    "        \n",
    "    return df_in "
   ]
  },
  {
   "cell_type": "code",
   "execution_count": null,
   "metadata": {},
   "outputs": [],
   "source": []
  },
  {
   "cell_type": "code",
   "execution_count": 11,
   "metadata": {},
   "outputs": [],
   "source": [
    "X_train = cleaner(df.drop(columns=['wage']))\n",
    "y_train = df['wage']\n",
    "rf = RandomForestClassifier(n_estimators=100)\n",
    "rf.fit(X_train,y_train);"
   ]
  },
  {
   "cell_type": "code",
   "execution_count": 12,
   "metadata": {},
   "outputs": [],
   "source": [
    "X_test_model = cleaner(X_test, is_test=True, train_df=X_train)\n",
    "\n",
    "X_cheap_sample = cleaner(df_cheap_sample.drop(columns=['wage']))"
   ]
  },
  {
   "cell_type": "code",
   "execution_count": 13,
   "metadata": {},
   "outputs": [],
   "source": [
    "rf_cheap = RandomForestClassifier(n_estimators=100)"
   ]
  },
  {
   "cell_type": "code",
   "execution_count": 14,
   "metadata": {},
   "outputs": [],
   "source": [
    "y_train_cheap = df_cheap_sample['wage']\n",
    "X_test_model_cheap_sample = cleaner(X_test, is_test=True, train_df=X_cheap_sample)"
   ]
  },
  {
   "cell_type": "code",
   "execution_count": 15,
   "metadata": {},
   "outputs": [],
   "source": [
    "rf_cheap.fit(X_cheap_sample, y_train_cheap);"
   ]
  },
  {
   "cell_type": "code",
   "execution_count": 16,
   "metadata": {},
   "outputs": [],
   "source": [
    "predict_probas_cheap = rf_cheap.predict_proba(X_test_model_cheap_sample)[:,1]"
   ]
  },
  {
   "cell_type": "code",
   "execution_count": 17,
   "metadata": {},
   "outputs": [],
   "source": [
    "predict_probas = rf.predict_proba(X_test_model)[:,1]"
   ]
  },
  {
   "cell_type": "code",
   "execution_count": 18,
   "metadata": {},
   "outputs": [
    {
     "data": {
      "text/plain": [
       "array(['<=50K', '>50K'], dtype=object)"
      ]
     },
     "execution_count": 18,
     "metadata": {},
     "output_type": "execute_result"
    }
   ],
   "source": [
    "rf.classes_"
   ]
  },
  {
   "cell_type": "code",
   "execution_count": null,
   "metadata": {},
   "outputs": [],
   "source": []
  },
  {
   "cell_type": "code",
   "execution_count": 22,
   "metadata": {},
   "outputs": [],
   "source": [
    "def plot_model(threshold, probas1, descrip1, probas2=[], descrip2 = False, y_test = y_test):\n",
    "    \"\"\"\n",
    "    Functions takes a threshold value, predicted probabilities of income >50K and a description of the model. \n",
    "    \n",
    "    Additional model probabilities can be displayed side by side if entered. \n",
    "    \"\"\"\n",
    "    ### helper function \n",
    "    def get_predictions(probabilities, threshold):\n",
    "        return ['<=50K' if prob < threshold else '>50K' for prob in probabilities] \n",
    "    \n",
    "    ### helper function \n",
    "    def get_plotting_info(probas, thresh):\n",
    "        predictions = get_predictions(probas, thresh)\n",
    "\n",
    "        fprs, tprs, _ = roc_curve(y_test, probas, pos_label='>50K')\n",
    "        fpr_model = confusion_matrix(y_test, predictions)[0][1]/ sum(confusion_matrix(y_test, predictions)[0])\n",
    "        tpr_model = confusion_matrix(y_test, predictions)[1][1]/ sum(confusion_matrix(y_test, predictions)[1])\n",
    "\n",
    "        acc_score = accuracy_score(y_test, predictions)\n",
    "\n",
    "        return fprs, tprs, fpr_model, tpr_model, acc_score, predictions\n",
    "    \n",
    "    ### main function \n",
    "    fprs, tprs, fpr_model, tpr_model, accuracy, predictions = get_plotting_info(probas1, threshold)\n",
    "    dct = {}\n",
    "    dct[descrip1] = [round(accuracy,4), round(roc_auc_score(y_test, probas1), 4)]\n",
    "    \n",
    "    if len(probas2) > 0:\n",
    "        fprs2, tprs2, fpr_model2, tpr_model2, accuracy2, predictions2 = get_plotting_info(probas2, threshold)\n",
    "        dct[descrip2] = [round(accuracy2,4), round(roc_auc_score(y_test, probas2), 4)]\n",
    "    \n",
    "    fig, ax = plt.subplots(figsize=(6,6))\n",
    "    ax.plot(fprs, tprs, label=descrip1, color='blue')\n",
    "    if len(probas2) > 0:\n",
    "        ax.plot(fprs2, tprs2, label=descrip2, color='orange')\n",
    "    ax.plot([0,1], [0,1], linestyle='--', color='black')\n",
    "    ax.plot(fpr_model, tpr_model, marker = 'o', linewidth=20, color = 'blue')\n",
    "    if len(probas2) > 0:\n",
    "        ax.plot(fpr_model2, tpr_model2, marker = 'o', linewidth=20, color = 'orange')\n",
    "    ax.set_ylabel('True Positive Rate', fontsize=18)\n",
    "    ax.set_xlabel('False Positive Rate', fontsize=18)\n",
    "    ax.legend()\n",
    "    display(pd.DataFrame(dct, index=['Accuracy Score', 'AUC_ROC']))\n",
    "    cm1 = pd.DataFrame(confusion_matrix(y_test, predictions),columns=pd.MultiIndex.from_product([[descrip1], ['Predicted <=50K', 'Predicted >50K']]),\\\n",
    "             index=['True <=50K', 'True >50K']) \n",
    "    if len(probas2) > 0:\n",
    "        cm2 = pd.DataFrame(confusion_matrix(y_test, predictions2),columns=pd.MultiIndex.from_product([[descrip2], ['Predicted <=50K', 'Predicted >50K']]),\\\n",
    "             index=['True <=50K', 'True >50K']) \n",
    "        display_side_by_side(cm1, cm2)\n",
    "    else:\n",
    "        display(cm1)\n",
    "        "
   ]
  },
  {
   "cell_type": "code",
   "execution_count": 36,
   "metadata": {},
   "outputs": [
    {
     "data": {
      "application/vnd.jupyter.widget-view+json": {
       "model_id": "a1c357e320ed4a878123c525ecbe9d35",
       "version_major": 2,
       "version_minor": 0
      },
      "text/html": [
       "<p>Failed to display Jupyter Widget of type <code>interactive</code>.</p>\n",
       "<p>\n",
       "  If you're reading this message in Jupyter Notebook or JupyterLab, it may mean\n",
       "  that the widgets JavaScript is still loading. If this message persists, it\n",
       "  likely means that the widgets JavaScript library is either not installed or\n",
       "  not enabled. See the <a href=\"https://ipywidgets.readthedocs.io/en/stable/user_install.html\">Jupyter\n",
       "  Widgets Documentation</a> for setup instructions.\n",
       "</p>\n",
       "<p>\n",
       "  If you're reading this message in another notebook frontend (for example, a static\n",
       "  rendering on GitHub or <a href=\"https://nbviewer.jupyter.org/\">NBViewer</a>),\n",
       "  it may mean that your frontend doesn't currently support widgets.\n",
       "</p>\n"
      ],
      "text/plain": [
       "interactive(children=(FloatSlider(value=0.5, description='threshold', max=1.01, min=-0.01, step=0.01), Output()), _dom_classes=('widget-interact',))"
      ]
     },
     "metadata": {},
     "output_type": "display_data"
    }
   ],
   "source": [
    "interact(plot_model,y_test=fixed(y_test), threshold =(-.01,1.01, .01), probas1=fixed(predict_probas), descrip1=fixed('No Limitations'),\\\n",
    "        probas2= fixed(predict_probas_cheap), descrip2=fixed('Limited Data'));"
   ]
  },
  {
   "cell_type": "code",
   "execution_count": 35,
   "metadata": {},
   "outputs": [
    {
     "data": {
      "text/html": [
       "<div>\n",
       "<style scoped>\n",
       "    .dataframe tbody tr th:only-of-type {\n",
       "        vertical-align: middle;\n",
       "    }\n",
       "\n",
       "    .dataframe tbody tr th {\n",
       "        vertical-align: top;\n",
       "    }\n",
       "\n",
       "    .dataframe thead th {\n",
       "        text-align: right;\n",
       "    }\n",
       "</style>\n",
       "<table border=\"1\" class=\"dataframe\">\n",
       "  <thead>\n",
       "    <tr style=\"text-align: right;\">\n",
       "      <th></th>\n",
       "      <th>No Limitations</th>\n",
       "      <th>Limited Data</th>\n",
       "    </tr>\n",
       "  </thead>\n",
       "  <tbody>\n",
       "    <tr>\n",
       "      <th>Accuracy Score</th>\n",
       "      <td>0.9297</td>\n",
       "      <td>0.9065</td>\n",
       "    </tr>\n",
       "    <tr>\n",
       "      <th>AUC_ROC</th>\n",
       "      <td>0.9725</td>\n",
       "      <td>0.9611</td>\n",
       "    </tr>\n",
       "  </tbody>\n",
       "</table>\n",
       "</div>"
      ],
      "text/plain": [
       "                No Limitations  Limited Data\n",
       "Accuracy Score          0.9297        0.9065\n",
       "AUC_ROC                 0.9725        0.9611"
      ]
     },
     "metadata": {},
     "output_type": "display_data"
    },
    {
     "data": {
      "text/html": [
       "<table style=\"display:inline\" border=\"1\" class=\"dataframe\">\n",
       "  <thead>\n",
       "    <tr>\n",
       "      <th></th>\n",
       "      <th colspan=\"2\" halign=\"left\">No Limitations</th>\n",
       "    </tr>\n",
       "    <tr>\n",
       "      <th></th>\n",
       "      <th>Predicted &lt;=50K</th>\n",
       "      <th>Predicted &gt;50K</th>\n",
       "    </tr>\n",
       "  </thead>\n",
       "  <tbody>\n",
       "    <tr>\n",
       "      <th>True &lt;=50K</th>\n",
       "      <td>12648</td>\n",
       "      <td>464</td>\n",
       "    </tr>\n",
       "    <tr>\n",
       "      <th>True &gt;50K</th>\n",
       "      <td>681</td>\n",
       "      <td>2488</td>\n",
       "    </tr>\n",
       "  </tbody>\n",
       "</table style=\"display:inline\"><table style=\"display:inline\" border=\"1\" class=\"dataframe\">\n",
       "  <thead>\n",
       "    <tr>\n",
       "      <th></th>\n",
       "      <th colspan=\"2\" halign=\"left\">Limited Data</th>\n",
       "    </tr>\n",
       "    <tr>\n",
       "      <th></th>\n",
       "      <th>Predicted &lt;=50K</th>\n",
       "      <th>Predicted &gt;50K</th>\n",
       "    </tr>\n",
       "  </thead>\n",
       "  <tbody>\n",
       "    <tr>\n",
       "      <th>True &lt;=50K</th>\n",
       "      <td>12291</td>\n",
       "      <td>821</td>\n",
       "    </tr>\n",
       "    <tr>\n",
       "      <th>True &gt;50K</th>\n",
       "      <td>702</td>\n",
       "      <td>2467</td>\n",
       "    </tr>\n",
       "  </tbody>\n",
       "</table style=\"display:inline\">"
      ]
     },
     "metadata": {},
     "output_type": "display_data"
    },
    {
     "data": {
      "image/png": "[encoded data removed]",
      "text/plain": [
       "<matplotlib.figure.Figure at 0x1208da6a0>"
      ]
     },
     "metadata": {},
     "output_type": "display_data"
    }
   ],
   "source": [
    "plot_model(.5, predict_probas, 'No Limitations', predict_probas_cheap, 'Limited Data')"
   ]
  },
  {
   "cell_type": "code",
   "execution_count": null,
   "metadata": {},
   "outputs": [],
   "source": []
  }
 ],
 "metadata": {
  "kernelspec": {
   "display_name": "Python 3",
   "language": "python",
   "name": "python3"
  },
  "language_info": {
   "codemirror_mode": {
    "name": "ipython",
    "version": 3
   },
   "file_extension": ".py",
   "mimetype": "text/x-python",
   "name": "python",
   "nbconvert_exporter": "python",
   "pygments_lexer": "ipython3",
   "version": "3.6.6"
  }
 },
 "nbformat": 4,
 "nbformat_minor": 2
}
